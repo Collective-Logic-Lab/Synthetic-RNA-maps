{
 "cells": [
  {
   "cell_type": "code",
   "execution_count": null,
   "id": "bc0b5e46",
   "metadata": {},
   "outputs": [],
   "source": [
    "# cell-collective-control-kernels.ipynb\n",
    "#\n",
    "# Bryan Daniels\n",
    "# 2023/11/2\n",
    "#\n",
    "# Computing control kernels for relevant networks in the cell collective database.\n",
    "#"
   ]
  },
  {
   "cell_type": "code",
   "execution_count": 1,
   "id": "e0456963",
   "metadata": {},
   "outputs": [],
   "source": [
    "from neet.boolean import LogicNetwork\n",
    "from neet.controlkernel.control_kernel_analysis import ck_analysis\n",
    "from neet.controlkernel.modularity import pinning_produces_desired_attractor\n",
    "import numpy as np\n",
    "import glob\n",
    "import os\n",
    "from tqdm import tqdm"
   ]
  },
  {
   "cell_type": "markdown",
   "id": "a59c9912",
   "metadata": {},
   "source": [
    "# Load networks from Cell Collective"
   ]
  },
  {
   "cell_type": "code",
   "execution_count": 2,
   "id": "3b2b9df0",
   "metadata": {},
   "outputs": [],
   "source": [
    "def load_cell_collective_network(directory):\n",
    "    \"\"\"\n",
    "    Creates neet network from cell collective data in the given directory.\n",
    "    \"\"\"\n",
    "    expressions_file = '{}/expressions.txt'.format(directory)\n",
    "    external_file = '{}/external.txt'.format(directory)\n",
    "    net = LogicNetwork.read_logic(expressions_file, external_file)\n",
    "    return net"
   ]
  },
  {
   "cell_type": "code",
   "execution_count": 3,
   "id": "c1109a51",
   "metadata": {},
   "outputs": [],
   "source": [
    "cell_collective_directory = '../Data/Cell Collective/'"
   ]
  },
  {
   "cell_type": "code",
   "execution_count": 4,
   "id": "7d390048",
   "metadata": {},
   "outputs": [
    {
     "name": "stderr",
     "output_type": "stream",
     "text": [
      "100%|███████████████████████████████████████████| 72/72 [00:07<00:00,  9.61it/s]\n"
     ]
    }
   ],
   "source": [
    "# load all cell collective networks into a dictionary\n",
    "net_dict = {}\n",
    "skip_network = 'ErbB_Receptor_Signaling' # skip this network because it is too large\n",
    "for network_directory in tqdm(glob.glob(cell_collective_directory+\"/*\")):\n",
    "    if os.path.isdir(network_directory) and not network_directory.endswith(skip_network):\n",
    "        #print(\"Loading network from directory {}\".format(network_directory))\n",
    "        net_name = os.path.split(network_directory)[-1]\n",
    "        net = load_cell_collective_network(network_directory)\n",
    "        #print(\"net_name = {}\".format(net_name))\n",
    "        net_dict[net_name] = net"
   ]
  },
  {
   "cell_type": "markdown",
   "id": "7ad11e1c-66ec-4f75-9295-09461e9610f2",
   "metadata": {},
   "source": [
    "# Find attractors for networks with 2 attractors"
   ]
  },
  {
   "cell_type": "code",
   "execution_count": 13,
   "id": "85ba41b9-ca2c-471d-b8c5-08b42db10f20",
   "metadata": {},
   "outputs": [
    {
     "name": "stdout",
     "output_type": "stream",
     "text": [
      "[[1, 1, 0, 0, 0]]\n",
      "[[0, 0, 1, 1, 1]]\n"
     ]
    }
   ],
   "source": [
    "net = net_dict['Cortical_Area_Development']\n",
    "for a in net.attractors:\n",
    "    print([ net.decode(state) for state in a ])"
   ]
  },
  {
   "cell_type": "code",
   "execution_count": 17,
   "id": "b107cfb2-b1e8-46da-97f7-c629d4712cd4",
   "metadata": {},
   "outputs": [
    {
     "name": "stdout",
     "output_type": "stream",
     "text": [
      "[[0, 0, 0, 0, 0, 0, 0, 0, 0, 0, 0, 0, 0, 0, 0, 0, 0, 0, 0]]\n",
      "[[1, 1, 0, 0, 1, 1, 1, 1, 1, 0, 0, 0, 1, 1, 1, 0, 0, 1, 1]]\n",
      "[[0, 0, 1, 0, 0, 0, 1, 0, 0, 1, 0, 1, 1, 0, 0, 1, 1, 0, 0]]\n"
     ]
    }
   ],
   "source": [
    "net = net_dict['Human_Gonadal_Sex_Determination']\n",
    "for a in net.attractors:\n",
    "    print([ net.decode(state) for state in a ])"
   ]
  },
  {
   "cell_type": "markdown",
   "id": "3d52afc3",
   "metadata": {},
   "source": [
    "# Do example control kernel analysis"
   ]
  },
  {
   "cell_type": "code",
   "execution_count": 9,
   "id": "520be1c8",
   "metadata": {},
   "outputs": [],
   "source": [
    "# control kernel analysis on an example network\n",
    "net = net_dict['Cortical_Area_Development']"
   ]
  },
  {
   "cell_type": "code",
   "execution_count": 64,
   "id": "88bbb609",
   "metadata": {},
   "outputs": [],
   "source": [
    "# force first gene on explicitly\n",
    "#net2 = load_cell_collective_network('../Data/Cell Collective/Cortical_Area_Development_forced_231102')"
   ]
  },
  {
   "cell_type": "code",
   "execution_count": 12,
   "id": "d199adb5",
   "metadata": {},
   "outputs": [
    {
     "name": "stdout",
     "output_type": "stream",
     "text": [
      "Finding attractors and control kernels...\n",
      "Control kernel for attractor [[1 1 0 0 0]]:\n",
      "    ['Emx2']\n",
      "Control kernel for attractor [[0 0 1 1 1]]:\n",
      "    ['Fgf8']\n"
     ]
    }
   ],
   "source": [
    "# the default code finds a single control kernel (of minimal size) for each attractor\n",
    "ck_data = ck_analysis(net)\n",
    "attractor_list = ck_data['attractors']\n",
    "ck_list = ck_data['control_kernels']\n",
    "for att,ck in zip(attractor_list,ck_list):\n",
    "    ck_names = [ net.names[i] for i in ck ]\n",
    "    print('Control kernel for attractor {}:'.format(np.transpose(net.decode(att))))\n",
    "    print('    {}'.format(ck_names))"
   ]
  },
  {
   "cell_type": "code",
   "execution_count": 10,
   "id": "5c73dd2a-b1b9-4fa9-bea5-7188ee16b8bf",
   "metadata": {},
   "outputs": [
    {
     "data": {
      "text/plain": [
       "[[[1, 1, 0, 0, 0]], [[0, 0, 1, 1, 1]]]"
      ]
     },
     "execution_count": 10,
     "metadata": {},
     "output_type": "execute_result"
    }
   ],
   "source": [
    "[[ net.decode(state) for state in att ] for att in net.attractors]"
   ]
  },
  {
   "cell_type": "code",
   "execution_count": 11,
   "id": "0cc8cbfa-b8b6-4ee3-98af-585f5fddb97d",
   "metadata": {},
   "outputs": [
    {
     "data": {
      "text/plain": [
       "array([28,  4])"
      ]
     },
     "execution_count": 11,
     "metadata": {},
     "output_type": "execute_result"
    }
   ],
   "source": [
    "net.basin_sizes"
   ]
  },
  {
   "cell_type": "code",
   "execution_count": 34,
   "id": "faa7d86f",
   "metadata": {},
   "outputs": [],
   "source": [
    "# code for finding all possible control kernels of size 1 \n",
    "# (copied from Control-of-Synthetic-Boolean-Networks/code/BoolODE_data.ipynb)\n",
    "def find_all_control_kernels_of_size_one(net):\n",
    "    attractors = net.attractors\n",
    "    for att_index in range(len(attractors)):\n",
    "        desired_attractor = attractors[att_index].copy()\n",
    "        desired_attractor_decoded = [net.decode(state) for state in desired_attractor]\n",
    "        print(\"Control kernels of size one for attractor {}\".format(desired_attractor_decoded))\n",
    "        for i,name in enumerate(net.names):\n",
    "            pin = [i,]\n",
    "            pin_states = [[desired_attractor_decoded[0][i],],]\n",
    "            if pinning_produces_desired_attractor(net,pin,pin_states,desired_attractor):\n",
    "                print({name})"
   ]
  },
  {
   "cell_type": "code",
   "execution_count": 59,
   "id": "91896dcb",
   "metadata": {},
   "outputs": [
    {
     "name": "stdout",
     "output_type": "stream",
     "text": [
      "g1 <-> Coup_fti\n",
      "g2 <-> Emx2\n",
      "g3 <-> Fgf8\n",
      "g4 <-> Sp8\n",
      "g5 <-> Pax6\n"
     ]
    }
   ],
   "source": [
    "for i in range(5):\n",
    "    print(\"g{} <-> {}\".format(i+1,net.names[i]))"
   ]
  },
  {
   "cell_type": "code",
   "execution_count": 56,
   "id": "746bb1dc",
   "metadata": {},
   "outputs": [
    {
     "name": "stdout",
     "output_type": "stream",
     "text": [
      "Control kernels of size one for attractor [[1, 1, 0, 0, 0]]\n",
      "{'Emx2'}\n",
      "{'Fgf8'}\n",
      "{'Sp8'}\n",
      "Control kernels of size one for attractor [[0, 0, 1, 1, 1]]\n",
      "{'Fgf8'}\n"
     ]
    }
   ],
   "source": [
    "find_all_control_kernels_of_size_one(net)"
   ]
  },
  {
   "cell_type": "markdown",
   "id": "f8ac7c4a",
   "metadata": {},
   "source": [
    "### What are the Cortical Area Network's dynamics from some example initial conditions?"
   ]
  },
  {
   "cell_type": "code",
   "execution_count": 104,
   "id": "96147f26",
   "metadata": {},
   "outputs": [],
   "source": [
    "def simulate_to_attractor(net,state):\n",
    "    traj = []\n",
    "    while state not in traj:\n",
    "        traj.append(state.copy())\n",
    "        state = net.update(traj[-1].copy())\n",
    "    return traj"
   ]
  },
  {
   "cell_type": "code",
   "execution_count": 109,
   "id": "84a949e6",
   "metadata": {},
   "outputs": [
    {
     "name": "stdout",
     "output_type": "stream",
     "text": [
      "[0, 0, 1, 1, 0]\n",
      "[0, 0, 1, 1, 1]\n"
     ]
    }
   ],
   "source": [
    "# starting from the initial conditions in AY's \"pRogress_4\"\n",
    "[ print(state) for state in simulate_to_attractor(net,[0,0,1,1,0]) ];"
   ]
  },
  {
   "cell_type": "code",
   "execution_count": 110,
   "id": "c3490f5e",
   "metadata": {},
   "outputs": [
    {
     "name": "stdout",
     "output_type": "stream",
     "text": [
      "[0, 0, 0, 1, 0]\n",
      "[0, 0, 0, 0, 1]\n",
      "[1, 0, 0, 0, 0]\n",
      "[1, 1, 0, 0, 0]\n"
     ]
    }
   ],
   "source": [
    "[ print(state) for state in simulate_to_attractor(net,[0,0,0,1,0]) ];"
   ]
  },
  {
   "cell_type": "code",
   "execution_count": 111,
   "id": "e6da190c",
   "metadata": {},
   "outputs": [
    {
     "name": "stdout",
     "output_type": "stream",
     "text": [
      "[0, 0, 0, 0, 0]\n",
      "[1, 0, 0, 0, 0]\n",
      "[1, 1, 0, 0, 0]\n"
     ]
    }
   ],
   "source": [
    "[ print(state) for state in simulate_to_attractor(net,[0,0,0,0,0]) ];"
   ]
  },
  {
   "cell_type": "code",
   "execution_count": 112,
   "id": "32687f22",
   "metadata": {},
   "outputs": [
    {
     "name": "stdout",
     "output_type": "stream",
     "text": [
      "[1, 0, 1, 1, 0]\n",
      "[0, 0, 1, 1, 0]\n",
      "[0, 0, 1, 1, 1]\n"
     ]
    }
   ],
   "source": [
    "[ print(state) for state in simulate_to_attractor(net,[1,0,1,1,0]) ];"
   ]
  },
  {
   "cell_type": "markdown",
   "id": "b37083a9",
   "metadata": {},
   "source": [
    "# Find Cell Collective networks that have only two attractors "
   ]
  },
  {
   "cell_type": "code",
   "execution_count": 50,
   "id": "a9f764e3",
   "metadata": {},
   "outputs": [
    {
     "name": "stdout",
     "output_type": "stream",
     "text": [
      "Finding attractors for Arabidopsis_Thaliana_Cell_Cycle...\n",
      "    Number of attractors = 1\n",
      "Finding attractors for T-LGL_Survival_Network_2008...\n",
      "    Error\n",
      "Finding attractors for Wg_Pathway_Of_Drosophila_Signalling_Pathways...\n"
     ]
    },
    {
     "ename": "KeyboardInterrupt",
     "evalue": "",
     "output_type": "error",
     "traceback": [
      "\u001b[0;31m---------------------------------------------------------------------------\u001b[0m",
      "\u001b[0;31mKeyboardInterrupt\u001b[0m                         Traceback (most recent call last)",
      "Cell \u001b[0;32mIn[50], line 6\u001b[0m\n\u001b[1;32m      4\u001b[0m net \u001b[38;5;241m=\u001b[39m net_dict[network_name]\n\u001b[1;32m      5\u001b[0m \u001b[38;5;28;01mtry\u001b[39;00m:\n\u001b[0;32m----> 6\u001b[0m     \u001b[38;5;28mprint\u001b[39m(\u001b[38;5;124m\"\u001b[39m\u001b[38;5;124m    Number of attractors = \u001b[39m\u001b[38;5;132;01m{}\u001b[39;00m\u001b[38;5;124m\"\u001b[39m\u001b[38;5;241m.\u001b[39mformat(\u001b[38;5;28mlen\u001b[39m(\u001b[43mnet\u001b[49m\u001b[38;5;241;43m.\u001b[39;49m\u001b[43mattractors\u001b[49m)))\n\u001b[1;32m      7\u001b[0m     \u001b[38;5;28;01mif\u001b[39;00m \u001b[38;5;28mlen\u001b[39m(net\u001b[38;5;241m.\u001b[39mattractors) \u001b[38;5;241m==\u001b[39m \u001b[38;5;241m2\u001b[39m:\n\u001b[1;32m      8\u001b[0m         two_attractor_names\u001b[38;5;241m.\u001b[39mappend(network_name)\n",
      "File \u001b[0;32m~/packages/Neet/neet/landscape.py:369\u001b[0m, in \u001b[0;36mLandscapeMixin.attractors\u001b[0;34m(self)\u001b[0m\n\u001b[1;32m    331\u001b[0m \u001b[38;5;124;03m\"\"\"\u001b[39;00m\n\u001b[1;32m    332\u001b[0m \u001b[38;5;124;03mGet the attractors of the landscape as an array. Each element of the\u001b[39;00m\n\u001b[1;32m    333\u001b[0m \u001b[38;5;124;03marray is an attractor cycle, each of which is an array of states in\u001b[39;00m\n\u001b[0;32m   (...)\u001b[0m\n\u001b[1;32m    366\u001b[0m \u001b[38;5;124;03m          an array of encoded states\u001b[39;00m\n\u001b[1;32m    367\u001b[0m \u001b[38;5;124;03m\"\"\"\u001b[39;00m\n\u001b[1;32m    368\u001b[0m \u001b[38;5;28;01mif\u001b[39;00m \u001b[38;5;129;01mnot\u001b[39;00m \u001b[38;5;28mself\u001b[39m\u001b[38;5;241m.\u001b[39m__landscaped:\n\u001b[0;32m--> 369\u001b[0m     \u001b[38;5;28;43mself\u001b[39;49m\u001b[38;5;241;43m.\u001b[39;49m\u001b[43mlandscape\u001b[49m\u001b[43m(\u001b[49m\u001b[43m)\u001b[49m\n\u001b[1;32m    370\u001b[0m \u001b[38;5;28;01mif\u001b[39;00m \u001b[38;5;129;01mnot\u001b[39;00m \u001b[38;5;28mself\u001b[39m\u001b[38;5;241m.\u001b[39m__expounded:\n\u001b[1;32m    371\u001b[0m     \u001b[38;5;28mself\u001b[39m\u001b[38;5;241m.\u001b[39mexpound()\n",
      "File \u001b[0;32m~/packages/Neet/neet/landscape.py:209\u001b[0m, in \u001b[0;36mLandscapeMixin.landscape\u001b[0;34m(self, index, pin, values, dynamic_pin)\u001b[0m\n\u001b[1;32m    207\u001b[0m     transitions \u001b[38;5;241m=\u001b[39m np\u001b[38;5;241m.\u001b[39mempty(\u001b[38;5;28mself\u001b[39m\u001b[38;5;241m.\u001b[39mvolume, dtype\u001b[38;5;241m=\u001b[39mnp\u001b[38;5;241m.\u001b[39mint)\n\u001b[1;32m    208\u001b[0m     \u001b[38;5;28;01mfor\u001b[39;00m i, state \u001b[38;5;129;01min\u001b[39;00m \u001b[38;5;28menumerate\u001b[39m(\u001b[38;5;28mself\u001b[39m):\n\u001b[0;32m--> 209\u001b[0m         transitions[i] \u001b[38;5;241m=\u001b[39m \u001b[43mencode\u001b[49m\u001b[43m(\u001b[49m\u001b[43mupdate\u001b[49m\u001b[43m(\u001b[49m\u001b[43mstate\u001b[49m\u001b[43m,\u001b[49m\n\u001b[1;32m    210\u001b[0m \u001b[43m                                       \u001b[49m\u001b[43mindex\u001b[49m\u001b[38;5;241;43m=\u001b[39;49m\u001b[38;5;28;43mself\u001b[39;49m\u001b[38;5;241;43m.\u001b[39;49m\u001b[43m__index\u001b[49m\u001b[43m,\u001b[49m\n\u001b[1;32m    211\u001b[0m \u001b[43m                                       \u001b[49m\u001b[43mpin\u001b[49m\u001b[38;5;241;43m=\u001b[39;49m\u001b[38;5;28;43mself\u001b[39;49m\u001b[38;5;241;43m.\u001b[39;49m\u001b[43m__pin\u001b[49m\u001b[43m,\u001b[49m\n\u001b[1;32m    212\u001b[0m \u001b[43m                                       \u001b[49m\u001b[43mvalues\u001b[49m\u001b[38;5;241;43m=\u001b[39;49m\u001b[38;5;28;43mself\u001b[39;49m\u001b[38;5;241;43m.\u001b[39;49m\u001b[43m__values\u001b[49m\u001b[43m)\u001b[49m\u001b[43m)\u001b[49m\n\u001b[1;32m    213\u001b[0m \u001b[38;5;28;01melse\u001b[39;00m: \u001b[38;5;66;03m# update multiple times using dynamic pin for inputs\u001b[39;00m\n\u001b[1;32m    214\u001b[0m     \n\u001b[1;32m    215\u001b[0m     \u001b[38;5;66;03m# we will construct a special limited state space that does not\u001b[39;00m\n\u001b[1;32m    216\u001b[0m     \u001b[38;5;66;03m# iterate over fixed nodes\u001b[39;00m\n\u001b[1;32m    217\u001b[0m     limited_shape \u001b[38;5;241m=\u001b[39m \u001b[38;5;28mself\u001b[39m\u001b[38;5;241m.\u001b[39mshape[:]\n",
      "File \u001b[0;32m~/packages/Neet/neet/boolean/network.py:82\u001b[0m, in \u001b[0;36mBooleanNetwork._unsafe_encode\u001b[0;34m(self, state)\u001b[0m\n\u001b[1;32m     80\u001b[0m encoded, place \u001b[38;5;241m=\u001b[39m long(\u001b[38;5;241m0\u001b[39m), long(\u001b[38;5;241m1\u001b[39m)\n\u001b[1;32m     81\u001b[0m \u001b[38;5;28;01mfor\u001b[39;00m x \u001b[38;5;129;01min\u001b[39;00m state:\n\u001b[0;32m---> 82\u001b[0m     encoded \u001b[38;5;241m+\u001b[39m\u001b[38;5;241m=\u001b[39m place \u001b[38;5;241m*\u001b[39m long(x)\n\u001b[1;32m     83\u001b[0m     place \u001b[38;5;241m<<\u001b[39m\u001b[38;5;241m=\u001b[39m \u001b[38;5;241m1\u001b[39m\n\u001b[1;32m     84\u001b[0m \u001b[38;5;28;01mreturn\u001b[39;00m encoded\n",
      "\u001b[0;31mKeyboardInterrupt\u001b[0m: "
     ]
    }
   ],
   "source": [
    "two_attractor_names = []\n",
    "for network_name in net_dict.keys():\n",
    "    print(\"Finding attractors for {}...\".format(network_name))\n",
    "    net = net_dict[network_name]\n",
    "    try:\n",
    "        print(\"    Number of attractors = {}\".format(len(net.attractors)))\n",
    "        if len(net.attractors) == 2:\n",
    "            two_attractor_names.append(network_name)\n",
    "    except ValueError:\n",
    "        print(\"    Error\")    "
   ]
  },
  {
   "cell_type": "code",
   "execution_count": null,
   "id": "0a2fc2be",
   "metadata": {},
   "outputs": [],
   "source": []
  }
 ],
 "metadata": {
  "kernelspec": {
   "display_name": "Python 3 (ipykernel)",
   "language": "python",
   "name": "python3"
  },
  "language_info": {
   "codemirror_mode": {
    "name": "ipython",
    "version": 3
   },
   "file_extension": ".py",
   "mimetype": "text/x-python",
   "name": "python",
   "nbconvert_exporter": "python",
   "pygments_lexer": "ipython3",
   "version": "3.12.4"
  }
 },
 "nbformat": 4,
 "nbformat_minor": 5
}
