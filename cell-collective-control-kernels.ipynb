{
 "cells": [
  {
   "cell_type": "code",
   "execution_count": null,
   "id": "3c87705b",
   "metadata": {},
   "outputs": [],
   "source": [
    "# cell-collective-control-kernels.ipynb\n",
    "#\n",
    "# Bryan Daniels\n",
    "# 2023/11/2\n",
    "#\n",
    "# Computing control kernels for relevant networks in the cell collective database.\n",
    "#"
   ]
  },
  {
   "cell_type": "code",
   "execution_count": 44,
   "id": "367dac0b",
   "metadata": {},
   "outputs": [],
   "source": [
    "from neet.boolean import LogicNetwork\n",
    "from neet.controlkernel.control_kernel_analysis import ck_analysis\n",
    "from neet.controlkernel.modularity import pinning_produces_desired_attractor\n",
    "import numpy as np\n",
    "import glob\n",
    "import os\n",
    "from tqdm import tqdm"
   ]
  },
  {
   "cell_type": "markdown",
   "id": "57b91092",
   "metadata": {},
   "source": [
    "# Load networks from Cell Collective"
   ]
  },
  {
   "cell_type": "code",
   "execution_count": 6,
   "id": "72726bec",
   "metadata": {},
   "outputs": [],
   "source": [
    "def load_cell_collective_network(directory):\n",
    "    \"\"\"\n",
    "    Creates neet network from cell collective data in the given directory.\n",
    "    \"\"\"\n",
    "    expressions_file = '{}/expressions.txt'.format(directory)\n",
    "    external_file = '{}/external.txt'.format(directory)\n",
    "    net = LogicNetwork.read_logic(expressions_file, external_file)\n",
    "    return net"
   ]
  },
  {
   "cell_type": "code",
   "execution_count": 4,
   "id": "5f2efed0",
   "metadata": {},
   "outputs": [],
   "source": [
    "cell_collective_directory = '../Data/Cell Collective/'"
   ]
  },
  {
   "cell_type": "code",
   "execution_count": 18,
   "id": "9834d32a",
   "metadata": {},
   "outputs": [
    {
     "name": "stderr",
     "output_type": "stream",
     "text": [
      "100%|███████████████████████████████████████████| 72/72 [00:09<00:00,  7.91it/s]\n"
     ]
    }
   ],
   "source": [
    "# load all cell collective networks into a dictionary\n",
    "net_dict = {}\n",
    "skip_network = 'ErbB_Receptor_Signaling' # skip this network because it is too large\n",
    "for network_directory in tqdm(glob.glob(cell_collective_directory+\"/*\")):\n",
    "    if os.path.isdir(network_directory) and not network_directory.endswith(skip_network):\n",
    "        #print(\"Loading network from directory {}\".format(network_directory))\n",
    "        net_name = os.path.split(network_directory)[-1]\n",
    "        net = load_cell_collective_network(network_directory)\n",
    "        #print(\"net_name = {}\".format(net_name))\n",
    "        net_dict[net_name] = net"
   ]
  },
  {
   "cell_type": "markdown",
   "id": "d26982c0",
   "metadata": {},
   "source": [
    "# Do example control kernel analysis"
   ]
  },
  {
   "cell_type": "code",
   "execution_count": 21,
   "id": "bdd20d60",
   "metadata": {},
   "outputs": [],
   "source": [
    "# control kernel analysis on an example network\n",
    "net = net_dict['Cortical_Area_Development']"
   ]
  },
  {
   "cell_type": "code",
   "execution_count": 47,
   "id": "34df9426",
   "metadata": {},
   "outputs": [
    {
     "name": "stdout",
     "output_type": "stream",
     "text": [
      "Finding attractors and control kernels...\n",
      "Control kernel for attractor [[1 1 0 0 0]]:\n",
      "    ['Emx2']\n",
      "Control kernel for attractor [[0 0 1 1 1]]:\n",
      "    ['Fgf8']\n"
     ]
    }
   ],
   "source": [
    "# the default code finds a single control kernel (of minimal size) for each attractor\n",
    "ck_data = ck_analysis(net)\n",
    "attractor_list = ck_data['attractors']\n",
    "ck_list = ck_data['control_kernels']\n",
    "for att,ck in zip(attractor_list,ck_list):\n",
    "    ck_names = [ net.names[i] for i in ck ]\n",
    "    print('Control kernel for attractor {}:'.format(np.transpose(net.decode(att))))\n",
    "    print('    {}'.format(ck_names))"
   ]
  },
  {
   "cell_type": "code",
   "execution_count": 34,
   "id": "5801dfa0",
   "metadata": {},
   "outputs": [],
   "source": [
    "# code for finding all possible control kernels of size 1 \n",
    "# (copied from Control-of-Synthetic-Boolean-Networks/code/BoolODE_data.ipynb)\n",
    "def find_all_control_kernels_of_size_one(net):\n",
    "    attractors = net.attractors\n",
    "    for att_index in range(len(attractors)):\n",
    "        desired_attractor = attractors[att_index].copy()\n",
    "        desired_attractor_decoded = [net.decode(state) for state in desired_attractor]\n",
    "        print(\"Control kernels of size one for attractor {}\".format(desired_attractor_decoded))\n",
    "        for i,name in enumerate(net.names):\n",
    "            pin = [i,]\n",
    "            pin_states = [[desired_attractor_decoded[0][i],],]\n",
    "            if pinning_produces_desired_attractor(net,pin,pin_states,desired_attractor):\n",
    "                print({name})"
   ]
  },
  {
   "cell_type": "code",
   "execution_count": 36,
   "id": "e783f470",
   "metadata": {},
   "outputs": [
    {
     "name": "stdout",
     "output_type": "stream",
     "text": [
      "Control kernels of size one for attractor [[1, 1, 0, 0, 0]]\n",
      "{'Emx2'}\n",
      "{'Fgf8'}\n",
      "{'Sp8'}\n",
      "Control kernels of size one for attractor [[0, 0, 1, 1, 1]]\n",
      "{'Fgf8'}\n"
     ]
    }
   ],
   "source": [
    "find_all_control_kernels_of_size_one(net)"
   ]
  },
  {
   "cell_type": "markdown",
   "id": "18a71144",
   "metadata": {},
   "source": [
    "# Find Cell Collective networks that have only two attractors "
   ]
  },
  {
   "cell_type": "code",
   "execution_count": null,
   "id": "e150255b",
   "metadata": {},
   "outputs": [
    {
     "name": "stdout",
     "output_type": "stream",
     "text": [
      "Finding attractors for Arabidopsis_Thaliana_Cell_Cycle...\n",
      "    Number of attractors = 1\n",
      "Finding attractors for T-LGL_Survival_Network_2008...\n",
      "    Error\n",
      "Finding attractors for Wg_Pathway_Of_Drosophila_Signalling_Pathways...\n"
     ]
    }
   ],
   "source": [
    "two_attractor_names = []\n",
    "for network_name in net_dict.keys():\n",
    "    print(\"Finding attractors for {}...\".format(network_name))\n",
    "    net = net_dict[network_name]\n",
    "    try:\n",
    "        print(\"    Number of attractors = {}\".format(len(net.attractors)))\n",
    "        if len(net.attractors) == 2:\n",
    "            two_attractor_names.append(network_name)\n",
    "    except ValueError:\n",
    "        print(\"    Error\")    "
   ]
  },
  {
   "cell_type": "code",
   "execution_count": null,
   "id": "733fbb56",
   "metadata": {},
   "outputs": [],
   "source": []
  }
 ],
 "metadata": {
  "kernelspec": {
   "display_name": "Python 3 (ipykernel)",
   "language": "python",
   "name": "python3"
  },
  "language_info": {
   "codemirror_mode": {
    "name": "ipython",
    "version": 3
   },
   "file_extension": ".py",
   "mimetype": "text/x-python",
   "name": "python",
   "nbconvert_exporter": "python",
   "pygments_lexer": "ipython3",
   "version": "3.9.16"
  }
 },
 "nbformat": 4,
 "nbformat_minor": 5
}
