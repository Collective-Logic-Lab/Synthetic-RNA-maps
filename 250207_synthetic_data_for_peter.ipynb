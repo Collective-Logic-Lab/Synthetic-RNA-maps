{
 "cells": [
  {
   "cell_type": "code",
   "execution_count": null,
   "id": "e4f3527f-d6f7-4008-b04d-eb13d958ba4f",
   "metadata": {},
   "outputs": [],
   "source": [
    "# 250207_synthetic_data_for_peter.ipynb\n",
    "#\n",
    "# Bryan Daniels\n",
    "# 2025/2/7\n",
    "#\n",
    "# Load example BoolODE data from relevant examples and output as examples for\n",
    "# Peter Call to play with --- e.g. to infer number of attractors, minimal\n",
    "# size of feedback vertex set, ..."
   ]
  },
  {
   "cell_type": "code",
   "execution_count": 1,
   "id": "b2b502d0-3e6c-425e-910f-0667ebe832f1",
   "metadata": {},
   "outputs": [],
   "source": [
    "import pandas as pd"
   ]
  },
  {
   "cell_type": "markdown",
   "id": "21ea0dad-9b85-45a9-93aa-d85ce2d40124",
   "metadata": {},
   "source": [
    "# Example 1 — Human Gonadal Sex Determination"
   ]
  },
  {
   "cell_type": "code",
   "execution_count": 26,
   "id": "245cfb77-e345-4ea1-af3d-865766f384a9",
   "metadata": {},
   "outputs": [],
   "source": [
    "# 2025/1/27 data from Human Gonadal Sex Determination (random ICs, smaller timestep)\n",
    "dataDir = '../Bool ODE outputs/250124/output_1000cells_250124_gonadal'\n",
    "expression = pd.read_csv('{}/sampled_ExpData.csv'.format(dataDir),\n",
    "                         index_col=0).T\n",
    "expression_t_plus_delta = pd.read_csv('{}/(t+1)_sampled_ExpData.csv'.format(dataDir),\n",
    "                         index_col=0).T\n",
    "data_identifier = '250207_example_1'"
   ]
  },
  {
   "cell_type": "code",
   "execution_count": 27,
   "id": "ecc4ca48-cb00-4cfc-b68e-8da60e2f9614",
   "metadata": {},
   "outputs": [],
   "source": [
    "# we'll remove index names so the sampling times are not visible\n",
    "expression.index = ['Cell_{}'.format(i) for i in range(1000)]\n",
    "expression_t_plus_delta.index = ['Cell_{}'.format(i) for i in range(1000)]"
   ]
  },
  {
   "cell_type": "code",
   "execution_count": 28,
   "id": "aa541964-cd49-4caa-80e8-319087c4505c",
   "metadata": {},
   "outputs": [],
   "source": [
    "expression.to_csv(data_identifier+'_expression_time_t.csv')\n",
    "expression_t_plus_delta.to_csv(data_identifier+'_expression_time_t_plus_delta.csv')"
   ]
  },
  {
   "cell_type": "code",
   "execution_count": 25,
   "id": "1f6998ce-d44c-4ab6-a323-911aec4afc79",
   "metadata": {},
   "outputs": [
    {
     "data": {
      "text/plain": [
       "(1000, 19)"
      ]
     },
     "execution_count": 25,
     "metadata": {},
     "output_type": "execute_result"
    }
   ],
   "source": [
    "expression.shape"
   ]
  }
 ],
 "metadata": {
  "kernelspec": {
   "display_name": "Python 3 (ipykernel)",
   "language": "python",
   "name": "python3"
  },
  "language_info": {
   "codemirror_mode": {
    "name": "ipython",
    "version": 3
   },
   "file_extension": ".py",
   "mimetype": "text/x-python",
   "name": "python",
   "nbconvert_exporter": "python",
   "pygments_lexer": "ipython3",
   "version": "3.12.4"
  }
 },
 "nbformat": 4,
 "nbformat_minor": 5
}
