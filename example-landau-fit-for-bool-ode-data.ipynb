{
 "cells": [
  {
   "cell_type": "code",
   "execution_count": null,
   "id": "599030ff",
   "metadata": {},
   "outputs": [],
   "source": [
    "# example-landau-fit-for-bool-ode-data.ipynb\n",
    "#\n",
    "# Bryan Daniels\n",
    "# 2023/10/25\n",
    "#\n",
    "# Example of running the \"Landau\" data analysis code (found \n",
    "# here: https://github.com/Collective-Logic-Lab/landau )\n",
    "# on data produced by BoolODE.\n",
    "#\n",
    "# Much of this code was forked from what I wrote for the\n",
    "# Spring 2023 grant proposal, found in \n",
    "# Control-of-Synthetic-Boolean-Networks/code/BoolODE_data.ipynb\n",
    "#"
   ]
  },
  {
   "cell_type": "markdown",
   "id": "4e358f77",
   "metadata": {},
   "source": [
    "# load BoolODE data"
   ]
  },
  {
   "cell_type": "code",
   "execution_count": 13,
   "id": "476df3e3",
   "metadata": {},
   "outputs": [],
   "source": [
    "import pandas as pd\n",
    "import numpy as np"
   ]
  },
  {
   "cell_type": "code",
   "execution_count": 11,
   "id": "2eeeaf5f",
   "metadata": {},
   "outputs": [],
   "source": [
    "# read expression data into pandas DataFrame\n",
    "dataDir = '../Bool ODE outputs/pRogress_4/'\n",
    "expression = pd.read_csv('{}/ExpressionData.csv'.format(dataDir),\n",
    "                         index_col=0).T"
   ]
  },
  {
   "cell_type": "code",
   "execution_count": 10,
   "id": "26b5886a",
   "metadata": {},
   "outputs": [
    {
     "data": {
      "text/html": [
       "<div>\n",
       "<style scoped>\n",
       "    .dataframe tbody tr th:only-of-type {\n",
       "        vertical-align: middle;\n",
       "    }\n",
       "\n",
       "    .dataframe tbody tr th {\n",
       "        vertical-align: top;\n",
       "    }\n",
       "\n",
       "    .dataframe thead th {\n",
       "        text-align: right;\n",
       "    }\n",
       "</style>\n",
       "<table border=\"1\" class=\"dataframe\">\n",
       "  <thead>\n",
       "    <tr style=\"text-align: right;\">\n",
       "      <th></th>\n",
       "      <th>g1</th>\n",
       "      <th>g2</th>\n",
       "      <th>g3</th>\n",
       "      <th>g4</th>\n",
       "      <th>g5</th>\n",
       "    </tr>\n",
       "  </thead>\n",
       "  <tbody>\n",
       "    <tr>\n",
       "      <th>E0_237</th>\n",
       "      <td>2.364032</td>\n",
       "      <td>1.818055</td>\n",
       "      <td>0.000512</td>\n",
       "      <td>0.035562</td>\n",
       "      <td>0.003712</td>\n",
       "    </tr>\n",
       "    <tr>\n",
       "      <th>E1_233</th>\n",
       "      <td>1.916502</td>\n",
       "      <td>1.499494</td>\n",
       "      <td>0.000728</td>\n",
       "      <td>0.003854</td>\n",
       "      <td>0.072445</td>\n",
       "    </tr>\n",
       "    <tr>\n",
       "      <th>E2_186</th>\n",
       "      <td>1.467022</td>\n",
       "      <td>2.211753</td>\n",
       "      <td>0.038807</td>\n",
       "      <td>0.018330</td>\n",
       "      <td>0.016627</td>\n",
       "    </tr>\n",
       "    <tr>\n",
       "      <th>E3_438</th>\n",
       "      <td>2.222070</td>\n",
       "      <td>2.299621</td>\n",
       "      <td>0.012180</td>\n",
       "      <td>0.015372</td>\n",
       "      <td>0.001413</td>\n",
       "    </tr>\n",
       "    <tr>\n",
       "      <th>E4_268</th>\n",
       "      <td>1.980141</td>\n",
       "      <td>1.762307</td>\n",
       "      <td>0.014171</td>\n",
       "      <td>0.021510</td>\n",
       "      <td>0.007766</td>\n",
       "    </tr>\n",
       "    <tr>\n",
       "      <th>...</th>\n",
       "      <td>...</td>\n",
       "      <td>...</td>\n",
       "      <td>...</td>\n",
       "      <td>...</td>\n",
       "      <td>...</td>\n",
       "    </tr>\n",
       "    <tr>\n",
       "      <th>E995_60</th>\n",
       "      <td>1.688257</td>\n",
       "      <td>0.018741</td>\n",
       "      <td>0.015908</td>\n",
       "      <td>0.109149</td>\n",
       "      <td>0.039773</td>\n",
       "    </tr>\n",
       "    <tr>\n",
       "      <th>E996_206</th>\n",
       "      <td>2.288173</td>\n",
       "      <td>1.770626</td>\n",
       "      <td>0.002179</td>\n",
       "      <td>0.057767</td>\n",
       "      <td>0.015837</td>\n",
       "    </tr>\n",
       "    <tr>\n",
       "      <th>E997_234</th>\n",
       "      <td>2.071044</td>\n",
       "      <td>1.774852</td>\n",
       "      <td>0.001091</td>\n",
       "      <td>0.003413</td>\n",
       "      <td>0.012631</td>\n",
       "    </tr>\n",
       "    <tr>\n",
       "      <th>E998_11</th>\n",
       "      <td>0.561608</td>\n",
       "      <td>0.001382</td>\n",
       "      <td>0.519313</td>\n",
       "      <td>0.848467</td>\n",
       "      <td>0.466121</td>\n",
       "    </tr>\n",
       "    <tr>\n",
       "      <th>E999_499</th>\n",
       "      <td>2.196062</td>\n",
       "      <td>1.419916</td>\n",
       "      <td>0.012947</td>\n",
       "      <td>0.000310</td>\n",
       "      <td>0.007974</td>\n",
       "    </tr>\n",
       "  </tbody>\n",
       "</table>\n",
       "<p>1000 rows × 5 columns</p>\n",
       "</div>"
      ],
      "text/plain": [
       "                g1        g2        g3        g4        g5\n",
       "E0_237    2.364032  1.818055  0.000512  0.035562  0.003712\n",
       "E1_233    1.916502  1.499494  0.000728  0.003854  0.072445\n",
       "E2_186    1.467022  2.211753  0.038807  0.018330  0.016627\n",
       "E3_438    2.222070  2.299621  0.012180  0.015372  0.001413\n",
       "E4_268    1.980141  1.762307  0.014171  0.021510  0.007766\n",
       "...            ...       ...       ...       ...       ...\n",
       "E995_60   1.688257  0.018741  0.015908  0.109149  0.039773\n",
       "E996_206  2.288173  1.770626  0.002179  0.057767  0.015837\n",
       "E997_234  2.071044  1.774852  0.001091  0.003413  0.012631\n",
       "E998_11   0.561608  0.001382  0.519313  0.848467  0.466121\n",
       "E999_499  2.196062  1.419916  0.012947  0.000310  0.007974\n",
       "\n",
       "[1000 rows x 5 columns]"
      ]
     },
     "execution_count": 10,
     "metadata": {},
     "output_type": "execute_result"
    }
   ],
   "source": [
    "# look at the DataFrame to see what we're working with\n",
    "# (here 1000 cells with 5 gene expressions each)\n",
    "expression"
   ]
  },
  {
   "cell_type": "markdown",
   "id": "a605547c",
   "metadata": {},
   "source": [
    "In the BoolODE data, we know the timepoint at which each cell was sampled.  (In real data, we won't know this, but we'll deal with this fact later using RNA velocity.)  In BoolODE, the relevant time is known as the \"pseudotime\" (I think).  We load these times here from the file \"PseudoTime.csv\":"
   ]
  },
  {
   "cell_type": "code",
   "execution_count": 19,
   "id": "e81fff9c",
   "metadata": {},
   "outputs": [],
   "source": [
    "times_raw = pd.read_csv('{}/PseudoTime.csv'.format(dataDir),\n",
    "                       index_col=0)\n",
    "# keep just the 'PseudoTime' column and just the rows corresponding \n",
    "# to the sampled cells (those in expression.index)\n",
    "times = times_raw['PseudoTime'].loc[expression.index]"
   ]
  },
  {
   "cell_type": "code",
   "execution_count": 20,
   "id": "02628015",
   "metadata": {},
   "outputs": [
    {
     "data": {
      "text/plain": [
       "E0_237      0.473896\n",
       "E1_233      0.465863\n",
       "E2_186      0.371486\n",
       "E3_438      0.877510\n",
       "E4_268      0.536145\n",
       "              ...   \n",
       "E995_60     0.118474\n",
       "E996_206    0.411647\n",
       "E997_234    0.467871\n",
       "E998_11     0.020080\n",
       "E999_499    1.000000\n",
       "Name: PseudoTime, Length: 1000, dtype: float64"
      ]
     },
     "execution_count": 20,
     "metadata": {},
     "output_type": "execute_result"
    }
   ],
   "source": [
    "times"
   ]
  },
  {
   "cell_type": "markdown",
   "id": "1ae20e71",
   "metadata": {},
   "source": [
    "# do landau analysis to highlight potential control nodes"
   ]
  },
  {
   "cell_type": "code",
   "execution_count": 1,
   "id": "309af36b",
   "metadata": {},
   "outputs": [],
   "source": [
    "from landau import landauAnalysis"
   ]
  },
  {
   "cell_type": "markdown",
   "id": "76ee9b39",
   "metadata": {},
   "source": [
    "For the analysis, we want a population of cells that all have similar pseudotime.  So we will pick a time window that includes enough cells — let's say roughly 100 cells."
   ]
  },
  {
   "cell_type": "code",
   "execution_count": null,
   "id": "efcdcf7e",
   "metadata": {},
   "outputs": [],
   "source": []
  },
  {
   "cell_type": "code",
   "execution_count": null,
   "id": "703a411a",
   "metadata": {},
   "outputs": [],
   "source": [
    "# do landau analysis on a series of time windows\n",
    "\n",
    "delta_t = 0.05\n",
    "Nwindows = 100\n",
    "landauDataList = []\n",
    "cells_to_use_list = []\n",
    "t_min_list = np.linspace(0,1,Nwindows)\n",
    "\n",
    "for t_min in t_min_list:\n",
    "    # restrict to varying time window\n",
    "    t_max = t_min+delta_t\n",
    "    cells_to_use = (times >= t_min) & (times < t_max)\n",
    "    cells_to_use_list.append(cells_to_use)\n",
    "    \n",
    "    landauData = landauAnalysis.landauAnalysis(expression[cells_to_use])\n",
    "    landauDataList.append(landauData)"
   ]
  }
 ],
 "metadata": {
  "kernelspec": {
   "display_name": "Python 3 (ipykernel)",
   "language": "python",
   "name": "python3"
  },
  "language_info": {
   "codemirror_mode": {
    "name": "ipython",
    "version": 3
   },
   "file_extension": ".py",
   "mimetype": "text/x-python",
   "name": "python",
   "nbconvert_exporter": "python",
   "pygments_lexer": "ipython3",
   "version": "3.9.16"
  }
 },
 "nbformat": 4,
 "nbformat_minor": 5
}
